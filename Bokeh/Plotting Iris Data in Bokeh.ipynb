{
 "cells": [
  {
   "cell_type": "code",
   "execution_count": 11,
   "metadata": {},
   "outputs": [],
   "source": [
    "from bokeh.plotting import figure\n",
    "from bokeh.io import output_file, show\n",
    "from bokeh.sampledata.iris import flowers\n",
    "from bokeh.models import Range1d, PanTool, ResetTool, HoverTool\n",
    "\n",
    "\n",
    "output_file('iris.html')\n",
    "\n",
    "f= figure()\n",
    "\n",
    "#customize tools\n",
    "f.tools= [PanTool(),ResetTool()]\n",
    "f.add_tools(HoverTool())\n",
    "f.toolbar_location='above'\n",
    "f.toolbar.logo= None\n",
    "\n",
    "#stylizing the plot area\n",
    "f.plot_width=1100\n",
    "f.plot_height=650\n",
    "f.background_fill_color='olive'\n",
    "f.background_fill_alpha=0.3\n",
    "\n",
    "#styling the title\n",
    "f.title.text=\"Iris Morphology\"\n",
    "f.title.text_color='olive'\n",
    "f.title.text_font='times'\n",
    "f.title.text_font_size='25px'\n",
    "f.title.align= 'center'\n",
    "\n",
    "#styling the axes\n",
    "f.xaxis.minor_tick_line_color='blue'\n",
    "f.yaxis.major_label_orientation='vertical'\n",
    "f.xaxis.minor_tick_in= -6\n",
    "f.xaxis.axis_label= 'Petal Length'\n",
    "f.yaxis.axis_label= 'Petal Width'\n",
    "f.axis.axis_label_text_color= 'blue'\n",
    "f.axis.major_label_text_color= 'orange'\n",
    "\n",
    "f.x_range=Range1d(start= 0, end= 10)\n",
    "f.y_range=Range1d(start= 0, end= 5)\n",
    "f.xaxis.bounds= (2,5)\n",
    "f.xaxis[0].ticker.desired_num_ticks=2\n",
    "f.yaxis[0].ticker.desired_num_ticks=2\n",
    "f.yaxis[0].ticker.num_minor_ticks=10\n",
    "\n",
    "#styling the grid\n",
    "f.xgrid.grid_line_color= None\n",
    "f.ygrid.grid_line_alpha=0.6\n",
    "f.grid.grid_line_dash= [5,3]\n",
    "\n",
    "#creating plots\n",
    "f.circle(x= flowers[\"petal_length\"],y= flowers['petal_width'])\n",
    "\n",
    "show(f)"
   ]
  },
  {
   "cell_type": "code",
   "execution_count": null,
   "metadata": {},
   "outputs": [],
   "source": []
  }
 ],
 "metadata": {
  "kernelspec": {
   "display_name": "Python 3",
   "language": "python",
   "name": "python3"
  },
  "language_info": {
   "codemirror_mode": {
    "name": "ipython",
    "version": 3
   },
   "file_extension": ".py",
   "mimetype": "text/x-python",
   "name": "python",
   "nbconvert_exporter": "python",
   "pygments_lexer": "ipython3",
   "version": "3.6.4"
  }
 },
 "nbformat": 4,
 "nbformat_minor": 2
}
